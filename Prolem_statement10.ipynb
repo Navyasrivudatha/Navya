{
  "nbformat": 4,
  "nbformat_minor": 0,
  "metadata": {
    "colab": {
      "provenance": [],
      "authorship_tag": "ABX9TyPg0/0EzxfXYwGXNzln7R8O",
      "include_colab_link": true
    },
    "kernelspec": {
      "name": "python3",
      "display_name": "Python 3"
    },
    "language_info": {
      "name": "python"
    }
  },
  "cells": [
    {
      "cell_type": "markdown",
      "metadata": {
        "id": "view-in-github",
        "colab_type": "text"
      },
      "source": [
        "<a href=\"https://colab.research.google.com/github/Navyasrivudatha/Navya/blob/main/Prolem_statement10.ipynb\" target=\"_parent\"><img src=\"https://colab.research.google.com/assets/colab-badge.svg\" alt=\"Open In Colab\"/></a>"
      ]
    },
    {
      "cell_type": "code",
      "source": [
        "class Account:\n",
        "    def __init__(self,title=None,balance=0):\n",
        "        self.title=title\n",
        "        self.balance=balance\n",
        "    def deposit(self,amount):\n",
        "        self.balance+=amount\n",
        "        print('Your New Balance *********** = ₹%.2f' %self.balance)\n",
        "    def withdraw(self,amount):\n",
        "        self.balance-=amount\n",
        "        print('\\n\\nYour Remaining Balance *********** = ₹%.2f' %self.balance)\n",
        "    def getbalance(self):\n",
        "        print('\\nYour Balance ***********= ₹%.2f' %self.balance)\n",
        "\n",
        "class SavingsAccount(Account):\n",
        "    def __init__(self, title=None, balance=0, interestRate=0):\n",
        "            super().__init__(title, balance)\n",
        "            self.interestRate = interestRate\n",
        "\n",
        "    def interestAmount(self, interestRate,balance):\n",
        "       interest_amount= (interestRate*balance)/100\n",
        "       print(interest_amount)\n",
        "\n",
        "demo1 = SavingsAccount(\"Ashish\", 2000, 5)   # initializing a SavingsAccount object\n",
        "print(demo1.title)\n",
        "print(demo1.balance)\n",
        "print(demo1.interestRate)\n",
        "\n",
        "demo1.deposit(100)\n",
        "demo1.getbalance()\n",
        "demo1.withdraw(50)\n",
        "demo1.getbalance()\n",
        "demo1.interestAmount(2,2050)"
      ],
      "metadata": {
        "colab": {
          "base_uri": "https://localhost:8080/"
        },
        "id": "WZlV0ctN608r",
        "outputId": "7173fc3c-7ab8-451f-de3b-b1d4a0044f68"
      },
      "execution_count": 12,
      "outputs": [
        {
          "output_type": "stream",
          "name": "stdout",
          "text": [
            "Ashish\n",
            "2000\n",
            "5\n",
            "Your New Balance *********** = ₹2100.00\n",
            "\n",
            "Your Balance ***********= ₹2100.00\n",
            "\n",
            "\n",
            "Your Remaining Balance *********** = ₹2050.00\n",
            "\n",
            "Your Balance ***********= ₹2050.00\n",
            "41.0\n"
          ]
        }
      ]
    }
  ]
}