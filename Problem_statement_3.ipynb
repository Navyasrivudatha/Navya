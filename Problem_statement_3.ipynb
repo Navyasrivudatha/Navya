{
  "nbformat": 4,
  "nbformat_minor": 0,
  "metadata": {
    "colab": {
      "provenance": [],
      "authorship_tag": "ABX9TyMw8dhKqP3KpIlCmXsYpfdi",
      "include_colab_link": true
    },
    "kernelspec": {
      "name": "python3",
      "display_name": "Python 3"
    },
    "language_info": {
      "name": "python"
    }
  },
  "cells": [
    {
      "cell_type": "markdown",
      "metadata": {
        "id": "view-in-github",
        "colab_type": "text"
      },
      "source": [
        "<a href=\"https://colab.research.google.com/github/Navyasrivudatha/Navya/blob/main/Problem_statement_3.ipynb\" target=\"_parent\"><img src=\"https://colab.research.google.com/assets/colab-badge.svg\" alt=\"Open In Colab\"/></a>"
      ]
    },
    {
      "cell_type": "code",
      "execution_count": 1,
      "metadata": {
        "colab": {
          "base_uri": "https://localhost:8080/"
        },
        "id": "_75i16X9ndn4",
        "outputId": "6783c10a-8566-4931-d06e-a3ec5f6ca3fb"
      },
      "outputs": [
        {
          "output_type": "stream",
          "name": "stdout",
          "text": [
            "20\n"
          ]
        }
      ],
      "source": [
        "numbers = [8, 2, 3, 0, 7]\n",
        "sum = 0\n",
        "for x in numbers:\n",
        "    sum += x\n",
        "\n",
        "print(sum)"
      ]
    },
    {
      "cell_type": "markdown",
      "source": [
        "Write a Python function to sum all the numbers in a list.\n",
        "\n",
        "\n",
        "\n",
        "Sample List : [8, 2, 3, 0, 7]\n",
        "\n",
        "Expected Output : 20\n",
        "\n",
        "Explanation:\n",
        "\n",
        "Summation should like 8+2+3+0+7 = 20"
      ],
      "metadata": {
        "id": "5MVS4W06no2e"
      }
    }
  ]
}