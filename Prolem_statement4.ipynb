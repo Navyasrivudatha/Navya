{
  "nbformat": 4,
  "nbformat_minor": 0,
  "metadata": {
    "colab": {
      "provenance": [],
      "authorship_tag": "ABX9TyNiFS5LBNvt5GcTS7gkOAh1",
      "include_colab_link": true
    },
    "kernelspec": {
      "name": "python3",
      "display_name": "Python 3"
    },
    "language_info": {
      "name": "python"
    }
  },
  "cells": [
    {
      "cell_type": "markdown",
      "metadata": {
        "id": "view-in-github",
        "colab_type": "text"
      },
      "source": [
        "<a href=\"https://colab.research.google.com/github/Navyasrivudatha/Navya/blob/main/Prolem_statement4.ipynb\" target=\"_parent\"><img src=\"https://colab.research.google.com/assets/colab-badge.svg\" alt=\"Open In Colab\"/></a>"
      ]
    },
    {
      "cell_type": "code",
      "execution_count": 1,
      "metadata": {
        "colab": {
          "base_uri": "https://localhost:8080/"
        },
        "id": "CYU41U9cyXaH",
        "outputId": "b279534c-9866-43a4-eb16-7b859ede3355"
      },
      "outputs": [
        {
          "output_type": "stream",
          "name": "stdout",
          "text": [
            "dcba4321\n"
          ]
        }
      ],
      "source": [
        "def RevStr(str1):\n",
        "\n",
        "    rstr1 = ''\n",
        "    index = len(str1)\n",
        "    while index > 0:\n",
        "        rstr1 += str1[ index - 1 ]\n",
        "        index = index - 1\n",
        "    return rstr1\n",
        "print(RevStr('1234abcd'))"
      ]
    },
    {
      "cell_type": "markdown",
      "source": [
        "Write a Python program to reverse a string.\n",
        "\n",
        "\n",
        "\n",
        "﻿Sample String : \"1234abcd\"\n",
        "\n",
        "Expected Output : \"dcba4321\"\n",
        "\n",
        "\n",
        "\n"
      ],
      "metadata": {
        "id": "Q6ttJ-Anyc9u"
      }
    }
  ]
}