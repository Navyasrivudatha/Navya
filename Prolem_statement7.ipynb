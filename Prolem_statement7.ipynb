{
  "nbformat": 4,
  "nbformat_minor": 0,
  "metadata": {
    "colab": {
      "provenance": [],
      "authorship_tag": "ABX9TyMH5cBiLBWb1e7pVF2mGQt5",
      "include_colab_link": true
    },
    "kernelspec": {
      "name": "python3",
      "display_name": "Python 3"
    },
    "language_info": {
      "name": "python"
    }
  },
  "cells": [
    {
      "cell_type": "markdown",
      "metadata": {
        "id": "view-in-github",
        "colab_type": "text"
      },
      "source": [
        "<a href=\"https://colab.research.google.com/github/Navyasrivudatha/Navya/blob/main/Prolem_statement7.ipynb\" target=\"_parent\"><img src=\"https://colab.research.google.com/assets/colab-badge.svg\" alt=\"Open In Colab\"/></a>"
      ]
    },
    {
      "cell_type": "code",
      "source": [
        "class Calculator:\n",
        "    def __init__(self,num1,num2):\n",
        "        self.num1 = num1\n",
        "        self.num2 = num2\n",
        "    def add(self):\n",
        "        return self.num1+self.num2\n",
        "\n",
        "    def subtract(self):\n",
        "        return self.num2 - self.num1\n",
        "\n",
        "    def multiply(self):\n",
        "        return self.num1*self.num2\n",
        "\n",
        "    def divide(self):\n",
        "        return self.num2/self.num1\n",
        "\n",
        "\n",
        "obj = Calculator(10, 94);\n",
        "print(obj.add())\n",
        "print(obj.subtract())\n",
        "print(obj.multiply())\n",
        "print(obj.divide())"
      ],
      "metadata": {
        "colab": {
          "base_uri": "https://localhost:8080/"
        },
        "id": "WZlV0ctN608r",
        "outputId": "53235347-0da3-447b-d79c-5577422f17c9"
      },
      "execution_count": 6,
      "outputs": [
        {
          "output_type": "stream",
          "name": "stdout",
          "text": [
            "104\n",
            "84\n",
            "940\n",
            "9.4\n"
          ]
        }
      ]
    }
  ]
}