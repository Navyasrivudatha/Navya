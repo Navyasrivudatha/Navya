{
  "nbformat": 4,
  "nbformat_minor": 0,
  "metadata": {
    "colab": {
      "provenance": [],
      "authorship_tag": "ABX9TyOxR0Cy0GJ/vvp3ORZBrmh7",
      "include_colab_link": true
    },
    "kernelspec": {
      "name": "python3",
      "display_name": "Python 3"
    },
    "language_info": {
      "name": "python"
    }
  },
  "cells": [
    {
      "cell_type": "markdown",
      "metadata": {
        "id": "view-in-github",
        "colab_type": "text"
      },
      "source": [
        "<a href=\"https://colab.research.google.com/github/Navyasrivudatha/Navya/blob/main/Python_assignment.ipynb\" target=\"_parent\"><img src=\"https://colab.research.google.com/assets/colab-badge.svg\" alt=\"Open In Colab\"/></a>"
      ]
    },
    {
      "cell_type": "markdown",
      "source": [
        "##Problem statement 1:\n",
        "Write a program that computes the net amount of a bank account based on a transaction log from console input. The transaction log / sample input is in the format as shown below:\n",
        "\n",
        "\n",
        "\n",
        "Input\n",
        "\n",
        "log_message = D:100 W:10\n",
        "\n",
        "Output\n",
        "\n",
        "90\n",
        "\n",
        "Input\n",
        "\n",
        "Log_message = D:100 W:200 D:400\n",
        "\n",
        "Output\n",
        "\n",
        "300 (100 - 200 + 400 = 300)"
      ],
      "metadata": {
        "id": "YU5-WlJ6JNNB"
      }
    },
    {
      "cell_type": "code",
      "source": [
        "netamt = 0\n",
        "while True:\n",
        "    transaction = input()\n",
        "    if transaction == \"\":\n",
        "        break\n",
        "    else:\n",
        "        transaction = transaction.split(\" \")\n",
        "        if transaction[0] == \"D\":\n",
        "            netamt = netamt + int(transaction[1])\n",
        "        elif transaction[0] == \"W\":\n",
        "            netamt = netamt - int(transaction[1])\n",
        "\n",
        "print(netamt)"
      ],
      "metadata": {
        "colab": {
          "base_uri": "https://localhost:8080/"
        },
        "id": "sBmIJC0ZJYFf",
        "outputId": "d2aeba00-2ba2-4d08-d343-74d6951a0fe1"
      },
      "execution_count": 2,
      "outputs": [
        {
          "output_type": "stream",
          "name": "stdout",
          "text": [
            "D 100\n",
            "W 200\n",
            "D 400\n",
            "\n",
            "300\n"
          ]
        }
      ]
    }
  ]
}