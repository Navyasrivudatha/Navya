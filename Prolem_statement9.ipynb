{
  "nbformat": 4,
  "nbformat_minor": 0,
  "metadata": {
    "colab": {
      "provenance": [],
      "authorship_tag": "ABX9TyMUCOxHDkuH5jrKYEM2dS3+",
      "include_colab_link": true
    },
    "kernelspec": {
      "name": "python3",
      "display_name": "Python 3"
    },
    "language_info": {
      "name": "python"
    }
  },
  "cells": [
    {
      "cell_type": "markdown",
      "metadata": {
        "id": "view-in-github",
        "colab_type": "text"
      },
      "source": [
        "<a href=\"https://colab.research.google.com/github/Navyasrivudatha/Navya/blob/main/Prolem_statement9.ipynb\" target=\"_parent\"><img src=\"https://colab.research.google.com/assets/colab-badge.svg\" alt=\"Open In Colab\"/></a>"
      ]
    },
    {
      "cell_type": "code",
      "source": [
        "class Account:\n",
        "    def __init__(self, title, balance):\n",
        "        self.title = title\n",
        "        self.balance = balance\n",
        "\n",
        "class SavingsAccount(Account):\n",
        "    def __init__(self, title, balance, interestRate):\n",
        "        super().__init__(title, balance)\n",
        "        self.interestRate = interestRate\n",
        "\n",
        "account = Account(\"Ashish\", 500)\n",
        "savingsAccount = SavingsAccount(\"Ashish\", 5000, 5)\n",
        "print(account.title)\n",
        "print(account.balance)\n",
        "print(savingsAccount.interestRate)"
      ],
      "metadata": {
        "colab": {
          "base_uri": "https://localhost:8080/"
        },
        "id": "WZlV0ctN608r",
        "outputId": "aec4abd4-56eb-457b-8210-d62720369e33"
      },
      "execution_count": 10,
      "outputs": [
        {
          "output_type": "stream",
          "name": "stdout",
          "text": [
            "Ashish\n",
            "500\n",
            "5\n"
          ]
        }
      ]
    }
  ]
}