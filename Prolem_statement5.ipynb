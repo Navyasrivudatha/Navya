{
  "nbformat": 4,
  "nbformat_minor": 0,
  "metadata": {
    "colab": {
      "provenance": [],
      "authorship_tag": "ABX9TyNPWBWelkg0hiMLeCwTtCYu",
      "include_colab_link": true
    },
    "kernelspec": {
      "name": "python3",
      "display_name": "Python 3"
    },
    "language_info": {
      "name": "python"
    }
  },
  "cells": [
    {
      "cell_type": "markdown",
      "metadata": {
        "id": "view-in-github",
        "colab_type": "text"
      },
      "source": [
        "<a href=\"https://colab.research.google.com/github/Navyasrivudatha/Navya/blob/main/Prolem_statement5.ipynb\" target=\"_parent\"><img src=\"https://colab.research.google.com/assets/colab-badge.svg\" alt=\"Open In Colab\"/></a>"
      ]
    },
    {
      "cell_type": "code",
      "execution_count": 3,
      "metadata": {
        "colab": {
          "base_uri": "https://localhost:8080/"
        },
        "id": "CYU41U9cyXaH",
        "outputId": "f8e92d4b-cf9f-4f39-877a-ca1d0303cd2b"
      },
      "outputs": [
        {
          "output_type": "stream",
          "name": "stdout",
          "text": [
            "No. of Upper case characters : 3,No. of Lower case characters : 12\n"
          ]
        }
      ],
      "source": [
        "def str(s):\n",
        "    x = sum(1 for i in s if i.isupper())\n",
        "    y = sum(1 for i in s if i.islower())\n",
        "    print( \"No. of Upper case characters : %s,No. of Lower case characters : %s\" % (x,y))\n",
        "\n",
        "str(\"The quick Brow Fox\")"
      ]
    },
    {
      "cell_type": "markdown",
      "source": [
        "##Write a Python function that accepts a string and calculates the number of uppercase letters and lower case letters.\n",
        "\n",
        "\n",
        "\n",
        "Sample String : 'The quick Brow Fox'\n",
        "\n",
        "Expected Output :\n",
        "\n",
        "No. of Upper case characters : 3\n",
        "\n",
        "No. of Lower case Characters : 12"
      ],
      "metadata": {
        "id": "NxvDeMNt4UuU"
      }
    }
  ]
}