{
  "nbformat": 4,
  "nbformat_minor": 0,
  "metadata": {
    "colab": {
      "provenance": [],
      "authorship_tag": "ABX9TyPS/ofceBQD0gWgq5KobnFU",
      "include_colab_link": true
    },
    "kernelspec": {
      "name": "python3",
      "display_name": "Python 3"
    },
    "language_info": {
      "name": "python"
    }
  },
  "cells": [
    {
      "cell_type": "markdown",
      "metadata": {
        "id": "view-in-github",
        "colab_type": "text"
      },
      "source": [
        "<a href=\"https://colab.research.google.com/github/Navyasrivudatha/Navya/blob/main/Prolem_statement6.ipynb\" target=\"_parent\"><img src=\"https://colab.research.google.com/assets/colab-badge.svg\" alt=\"Open In Colab\"/></a>"
      ]
    },
    {
      "cell_type": "code",
      "source": [
        "class point:\n",
        "    def __init__(self):\n",
        "        self.x = x\n",
        "        self.y = y\n",
        "        self.z = z\n",
        "\n",
        "    def sqsum(self):\n",
        "        return ((self.x **2), (self.y **2), (self.z **2))\n",
        "\n",
        "    def sum(self):\n",
        "        return ((self.x **2) + (self.y **2) + (self.z **2))\n",
        "\n",
        "x = int(input(\"Enter the first number:\"))\n",
        "y = int(input(\"Enter the second number :\"))\n",
        "z = int(input(\"Enter the third number:\"))\n",
        "\n",
        "a = point()\n",
        "\n",
        "print(\"sum of the square are :\",a.sum())"
      ],
      "metadata": {
        "colab": {
          "base_uri": "https://localhost:8080/"
        },
        "id": "WZlV0ctN608r",
        "outputId": "2bb2025c-cd74-4e53-9150-da12350d2fb5"
      },
      "execution_count": 5,
      "outputs": [
        {
          "output_type": "stream",
          "name": "stdout",
          "text": [
            "Enter the first number:1\n",
            "Enter the second number :3\n",
            "Enter the third number:5\n",
            "square of the number are: (1, 9, 25)\n",
            "sum of the square are : 35\n"
          ]
        }
      ]
    }
  ]
}